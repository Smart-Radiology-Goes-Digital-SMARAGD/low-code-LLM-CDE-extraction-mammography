{
 "cells": [
  {
   "cell_type": "code",
   "execution_count": 1,
   "id": "2ce69542",
   "metadata": {},
   "outputs": [],
   "source": [
    "from general_classifier import gc"
   ]
  },
  {
   "cell_type": "code",
   "execution_count": null,
   "id": "39294dfc",
   "metadata": {},
   "outputs": [],
   "source": [
    "\n",
    "gc.setModel(\"rombodawg/Rombos-LLM-V2.6-Qwen-14b\")\n",
    "##For other used models, please uncomment the corresponding line below\n",
    "#gc.setModel(\"upstage/solar-pro-preview-instruct\")\n",
    "#gc.setModel(\"microsoft/phi-4\")\n",
    "#gc.setModel(\"wanlige/li-14b-v0.4\")\n",
    "#gc.setModel(\"sometimesanotion/Lamarck-14B-v0.7\")"
   ]
  },
  {
   "cell_type": "code",
   "execution_count": null,
   "id": "c64118a6",
   "metadata": {},
   "outputs": [],
   "source": [
    "gc.load_topics(\"mammography(standard).json\") ## StandardPrompt of the general-classifier\n",
    "#gc.load_topics(\"mammography(adapted).json\") ## AdaptedPrompts"
   ]
  },
  {
   "cell_type": "code",
   "execution_count": null,
   "id": "3497583a",
   "metadata": {},
   "outputs": [],
   "source": [
    "gc.classify_table(\"mammography\", withEvaluation=True)"
   ]
  }
 ],
 "metadata": {
  "kernelspec": {
   "display_name": "Python 3 (ipykernel)",
   "language": "python",
   "name": "python3"
  },
  "language_info": {
   "codemirror_mode": {
    "name": "ipython",
    "version": 3
   },
   "file_extension": ".py",
   "mimetype": "text/x-python",
   "name": "python",
   "nbconvert_exporter": "python",
   "pygments_lexer": "ipython3",
   "version": "3.11.5"
  }
 },
 "nbformat": 4,
 "nbformat_minor": 5
}
