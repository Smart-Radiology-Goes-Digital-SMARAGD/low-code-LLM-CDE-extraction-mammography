{
 "cells": [
  {
   "cell_type": "code",
   "execution_count": 1,
   "id": "2ce69542",
   "metadata": {},
   "outputs": [],
   "source": [
    "from general_classifier import gc"
   ]
  },
  {
   "cell_type": "code",
   "execution_count": null,
   "id": "39294dfc",
   "metadata": {},
   "outputs": [],
   "source": [
    "gc.setModel(\"rombodawg/Rombos-LLM-V2.6-Qwen-14b\",\"Transformers\")\n",
    "gc.load_topics(\"mammography(standard).json\") ## StandardPrompt of the general-classifier\n",
    "#gc.load_topics(\"mammography(adapted).json\") ## AdaptedPrompts"
   ]
  },
  {
   "cell_type": "code",
   "execution_count": 5,
   "id": "3497583a",
   "metadata": {},
   "outputs": [
    {
     "name": "stderr",
     "output_type": "stream",
     "text": [
      "We detected that you are passing `past_key_values` as a tuple and this is deprecated and will be removed in v4.43. Please use an appropriate `Cache` class (https://huggingface.co/docs/transformers/v4.41.3/en/internal/generation_utils#transformers.Cache)\n"
     ]
    },
    {
     "name": "stdout",
     "output_type": "stream",
     "text": [
      "Classification of 'mammography.csv' complete. Output written to 'mammography_(result).csv'.\n"
     ]
    }
   ],
   "source": [
    "import time\n",
    "start_time = time.time()\n",
    "gc.classify_table(\"mammography\", True, True)\n",
    "end_time = time.time()\n",
    "elapsed_time = end_time - start_time\n",
    "print(f\"This classification took {elapsed_time:.2f} seconds\")"
   ]
  }
 ],
 "metadata": {
  "kernelspec": {
   "display_name": "Python 3 (ipykernel)",
   "language": "python",
   "name": "python3"
  },
  "language_info": {
   "codemirror_mode": {
    "name": "ipython",
    "version": 3
   },
   "file_extension": ".py",
   "mimetype": "text/x-python",
   "name": "python",
   "nbconvert_exporter": "python",
   "pygments_lexer": "ipython3",
   "version": "3.11.5"
  }
 },
 "nbformat": 4,
 "nbformat_minor": 5
}
